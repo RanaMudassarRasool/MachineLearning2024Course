{
 "cells": [
  {
   "cell_type": "markdown",
   "metadata": {},
   "source": [
    "1. Grocery Shopping:\n",
    "\n",
    "Problem: You're at the grocery store and need to calculate the total cost of your items. You have the following quantities and prices:\n",
    "\n",
    "Apples: 3 at $1.25 each\n",
    "\n",
    "Bread: 1 at $2.50\n",
    "\n",
    "Milk: 2 at $3.00 per gallon"
   ]
  },
  {
   "cell_type": "code",
   "execution_count": 4,
   "metadata": {},
   "outputs": [
    {
     "name": "stdout",
     "output_type": "stream",
     "text": [
      "Total cost of apples: 3.75\n",
      "Total cost of bread: 2.5\n",
      "Total cost of milk: 6.0\n",
      "Grand total: 12.25\n"
     ]
    }
   ],
   "source": [
    "apple_price = 1.25\n",
    "bread_price = 2.50\n",
    "milk_price = 3.00\n",
    "\n",
    "num_apples = 3\n",
    "num_bread = 1\n",
    "num_milk = 2\n",
    "\n",
    "total_apples = apple_price * num_apples\n",
    "total_bread = bread_price * num_bread\n",
    "total_milk = milk_price * num_milk\n",
    "\n",
    "total_cost = total_apples + total_bread + total_milk\n",
    "\n",
    "print(\"Total cost of apples:\", total_apples)\n",
    "print(\"Total cost of bread:\", total_bread)\n",
    "print(\"Total cost of milk:\", total_milk)\n",
    "print(\"Grand total:\", total_cost)\n"
   ]
  },
  {
   "cell_type": "markdown",
   "metadata": {},
   "source": [
    "2. Painting a Room:\n",
    "\n",
    "Problem: You're painting a rectangular room and need to calculate the total amount of paint needed. You know the length and width of the room in feet."
   ]
  },
  {
   "cell_type": "code",
   "execution_count": 1,
   "metadata": {},
   "outputs": [
    {
     "name": "stdout",
     "output_type": "stream",
     "text": [
      "Number of gallons of paint needed: 1.44\n"
     ]
    }
   ],
   "source": [
    "length = 12  # Room length in feet\n",
    "width = 10  # Room width in feet\n",
    "\n",
    "# Assuming one gallon of paint covers 200 square feet\n",
    "paint_coverage_per_gallon = 200\n",
    "\n",
    "# Calculate the area of the walls (excluding doors and windows)\n",
    "area = 2 * (length * length)\n",
    "\n",
    "# Divide the area by the paint coverage per gallon to get the number of gallons needed\n",
    "# (Assuming one coat is sufficient, adjust if needed)\n",
    "num_gallons = area / paint_coverage_per_gallon\n",
    "\n",
    "print(\"Number of gallons of paint needed:\", num_gallons)\n"
   ]
  },
  {
   "cell_type": "markdown",
   "metadata": {},
   "source": [
    "3. Discount Calculation:\n",
    "\n",
    "Problem: You're buying an item with a regular price and want to calculate the final price after \n",
    "\n",
    "applying a discount"
   ]
  },
  {
   "cell_type": "code",
   "execution_count": 2,
   "metadata": {},
   "outputs": [
    {
     "name": "stdout",
     "output_type": "stream",
     "text": [
      "Regular price: 50.0\n",
      "Discount amount: 5.0\n",
      "Final price: 45.0\n"
     ]
    }
   ],
   "source": [
    "regular_price = 50.0\n",
    "discount_percentage = 10  # Percentage discount (replace with the actual percentage)\n",
    "\n",
    "# Calculate the discount amount\n",
    "discount_amount = regular_price * (discount_percentage / 100)\n",
    "\n",
    "# Calculate the final price\n",
    "final_price = regular_price - discount_amount\n",
    "\n",
    "print(\"Regular price:\", regular_price)\n",
    "print(\"Discount amount:\", discount_amount)\n",
    "print(\"Final price:\", final_price)\n"
   ]
  },
  {
   "cell_type": "markdown",
   "metadata": {},
   "source": [
    "4. Tip Calculation:\n",
    "\n",
    "Problem: You had a delicious meal at a restaurant and want to calculate the tip based on the total bill and desired percentage."
   ]
  },
  {
   "cell_type": "code",
   "execution_count": 5,
   "metadata": {},
   "outputs": [
    {
     "name": "stdout",
     "output_type": "stream",
     "text": [
      "Bill amount: 75.0\n",
      "Tip amount: 11.25\n",
      "Total amount with tip: 86.25\n"
     ]
    }
   ],
   "source": [
    "bill_amount = 75.0\n",
    "tip_percentage = 15  # Percentage tip (replace with the actual percentage)\n",
    "\n",
    "# Calculate the tip amount\n",
    "tip_amount = bill_amount * (tip_percentage / 100)\n",
    "\n",
    "# Calculate the total amount with tip\n",
    "total_with_tip = bill_amount + tip_amount\n",
    "\n",
    "print(\"Bill amount:\", bill_amount)\n",
    "print(\"Tip amount:\", tip_amount)\n",
    "print(\"Total amount with tip:\", total_with_tip)\n"
   ]
  },
  {
   "cell_type": "markdown",
   "metadata": {},
   "source": [
    "5. Average Speed:\n",
    "Problem: You're calculating your average speed on a trip after recording the distance traveled and the time taken."
   ]
  },
  {
   "cell_type": "markdown",
   "metadata": {},
   "source": [
    "We use the formula \n",
    "\n",
    "average_speed = distance / time to calculate the average speed."
   ]
  },
  {
   "cell_type": "code",
   "execution_count": 6,
   "metadata": {},
   "outputs": [
    {
     "name": "stdout",
     "output_type": "stream",
     "text": [
      "Average speed: 66.66666666666667 km/h\n"
     ]
    }
   ],
   "source": [
    "distance = 200  # Distance traveled in kilometers\n",
    "time = 3  # Time taken in hours\n",
    "\n",
    "average_speed = distance / time\n",
    "\n",
    "print(\"Average speed:\", average_speed, \"km/h\")\n"
   ]
  },
  {
   "cell_type": "markdown",
   "metadata": {},
   "source": [
    "6. Currency Conversion:\n",
    "\n",
    "Problem: You're traveling to a different country and need to convert \n",
    "\n",
    "money from your home currency to the local currency."
   ]
  },
  {
   "cell_type": "code",
   "execution_count": 7,
   "metadata": {},
   "outputs": [
    {
     "name": "stdout",
     "output_type": "stream",
     "text": [
      "Converted amount: 120.0 local currency\n"
     ]
    }
   ],
   "source": [
    "exchange_rate = 1.2  # Exchange rate (local currency per unit of home currency)\n",
    "amount_to_convert = 100  # Amount in home currency\n",
    "\n",
    "converted_amount = amount_to_convert * exchange_rate\n",
    "\n",
    "print(\"Converted amount:\", converted_amount, \"local currency\")\n"
   ]
  },
  {
   "cell_type": "markdown",
   "metadata": {},
   "source": [
    "7. Body Mass Index (BMI) Calculation:\n",
    "\n",
    "Problem: You want to calculate your Body Mass Index (BMI) based on your weight and height."
   ]
  },
  {
   "cell_type": "markdown",
   "metadata": {},
   "source": [
    "We use the formula \n",
    "\n",
    "BMI = weight / (height**2) to calculate the BMI."
   ]
  },
  {
   "cell_type": "code",
   "execution_count": null,
   "metadata": {},
   "outputs": [],
   "source": []
  },
  {
   "cell_type": "markdown",
   "metadata": {},
   "source": [
    "6. Distance Between Two Points:\n",
    "\n",
    "Problem: You're planning a trip and need to calculate the distance between two cities given their coordinates.\n"
   ]
  },
  {
   "cell_type": "markdown",
   "metadata": {},
   "source": [
    "distance formula\n",
    "\n",
    " distance = sqrt((x2 - x1)**2 + (y2 - y1)**2) \n",
    " \n",
    " to calculate the straight-line distan"
   ]
  },
  {
   "cell_type": "code",
   "execution_count": null,
   "metadata": {},
   "outputs": [],
   "source": []
  },
  {
   "cell_type": "markdown",
   "metadata": {},
   "source": [
    "5. Area of a Circle:\n",
    "\n",
    "\n",
    "Problem: You need to calculate the area of a circle given its radius."
   ]
  },
  {
   "cell_type": "markdown",
   "metadata": {},
   "source": [
    "We import the math module to access the pi constant.\n",
    "\n",
    " formula \n",
    "\n",
    " area = pi * radius**2 \n",
    " \n",
    " to calculate the area."
   ]
  },
  {
   "cell_type": "code",
   "execution_count": null,
   "metadata": {},
   "outputs": [],
   "source": []
  }
 ],
 "metadata": {
  "kernelspec": {
   "display_name": "Python 3",
   "language": "python",
   "name": "python3"
  },
  "language_info": {
   "codemirror_mode": {
    "name": "ipython",
    "version": 3
   },
   "file_extension": ".py",
   "mimetype": "text/x-python",
   "name": "python",
   "nbconvert_exporter": "python",
   "pygments_lexer": "ipython3",
   "version": "3.12.2"
  }
 },
 "nbformat": 4,
 "nbformat_minor": 2
}
